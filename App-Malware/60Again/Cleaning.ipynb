{
 "cells": [
  {
   "cell_type": "code",
   "execution_count": 1,
   "metadata": {},
   "outputs": [],
   "source": [
    "import pandas as pd\n",
    "import numpy as np\n",
    "\n",
    "import datetime\n",
    "\n",
    "import sklearn\n",
    "from sklearn.model_selection import train_test_split\n",
    "\n",
    "from sklearn.linear_model import LogisticRegression\n",
    "from sklearn.multiclass import OneVsRestClassifier\n",
    "\n",
    "from sklearn.ensemble import RandomForestClassifier\n",
    "from sklearn.svm import SVC\n",
    "\n",
    "from sklearn.neighbors import KNeighborsClassifier \n",
    "import matplotlib.pyplot as plt  \n",
    "import seaborn as sns \n",
    "\n",
    "%matplotlib inline\n",
    "plt.rcParams['figure.figsize'] = [11, 7]\n",
    "\n",
    "from sklearn import metrics\n",
    "from sklearn.metrics import precision_score, recall_score, roc_auc_score, roc_curve\n",
    "from sklearn.metrics import confusion_matrix\n",
    "\n",
    "from glob import glob\n",
    "\n",
    "from sklearn import preprocessing\n",
    "scaler = preprocessing.MinMaxScaler()"
   ]
  },
  {
   "cell_type": "code",
   "execution_count": 2,
   "metadata": {},
   "outputs": [],
   "source": [
    "Original = [\"DuckB.csv\",\"Duck1.csv\",\"Duck2.csv\",\"Duck3.csv\",\n",
    "            \"FunB.csv\",\"Fun1.csv\",\"Fun2.csv\",\"Fun3.csv\"]\n",
    "Cleaned = [\"ADuckB.csv\",\"ADuck1.csv\",\"ADuck2.csv\",\"ADuck3.csv\",\n",
    "            \"AFunB.csv\",\"AFun1.csv\",\"AFun2.csv\",\"AFun3.csv\"]\n",
    "\n",
    "\n",
    "for i in range(len(Original)):\n",
    "    with open(Original[i], 'r') as r, open(Cleaned[i], 'w') as w:    \n",
    "        for num, line in enumerate(r):\n",
    "            if num > 0:            \n",
    "                newline = line[:-2] + \"\\n\" if \"\\n\" in line else line[:-1]\n",
    "            else:\n",
    "                newline = line               \n",
    "            w.write(newline)"
   ]
  },
  {
   "cell_type": "code",
   "execution_count": 3,
   "metadata": {},
   "outputs": [],
   "source": [
    "for file in Cleaned:\n",
    "    df=pd.read_csv(file)\n",
    "    loads=np.array(df[\"CPU_load\"])\n",
    "    cleaned_loads=[]\n",
    "    for load in loads:\n",
    "        cleaned_loads.append(int(load[:-1]))\n",
    "    df[\"CPU_loads\"]=cleaned_loads\n",
    "    df.to_csv(file)\n",
    "    "
   ]
  }
 ],
 "metadata": {
  "kernelspec": {
   "display_name": "Python 3",
   "language": "python",
   "name": "python3"
  },
  "language_info": {
   "codemirror_mode": {
    "name": "ipython",
    "version": 3
   },
   "file_extension": ".py",
   "mimetype": "text/x-python",
   "name": "python",
   "nbconvert_exporter": "python",
   "pygments_lexer": "ipython3",
   "version": "3.7.7"
  }
 },
 "nbformat": 4,
 "nbformat_minor": 4
}
