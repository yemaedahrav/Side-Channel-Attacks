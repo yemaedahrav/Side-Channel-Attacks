{
 "cells": [
  {
   "cell_type": "code",
   "execution_count": 55,
   "metadata": {},
   "outputs": [],
   "source": [
    "import pandas as pd\n",
    "import numpy as np\n",
    "\n",
    "import datetime\n",
    "\n",
    "import sklearn\n",
    "from sklearn.model_selection import train_test_split\n",
    "\n",
    "from sklearn.linear_model import LogisticRegression\n",
    "from sklearn.multiclass import OneVsRestClassifier\n",
    "\n",
    "from sklearn.ensemble import RandomForestClassifier\n",
    "from sklearn.svm import SVC\n",
    "\n",
    "from sklearn.neighbors import KNeighborsClassifier \n",
    "import matplotlib.pyplot as plt  \n",
    "import seaborn as sns \n",
    "\n",
    "%matplotlib inline\n",
    "plt.rcParams['figure.figsize'] = [11, 7]\n",
    "\n",
    "from sklearn import metrics\n",
    "from sklearn.metrics import precision_score, recall_score, roc_auc_score, roc_curve\n",
    "from sklearn.metrics import confusion_matrix\n",
    "\n",
    "from glob import glob\n",
    "import random"
   ]
  },
  {
   "cell_type": "code",
   "execution_count": 8,
   "metadata": {},
   "outputs": [
    {
     "name": "stdout",
     "output_type": "stream",
     "text": [
      "['/home/iit/InternColumbia/Location/HeatMaps/4x4grid/data15.csv', '/home/iit/InternColumbia/Location/HeatMaps/4x4grid/data4.csv', '/home/iit/InternColumbia/Location/HeatMaps/4x4grid/data6.csv', '/home/iit/InternColumbia/Location/HeatMaps/4x4grid/data5.csv', '/home/iit/InternColumbia/Location/HeatMaps/4x4grid/data0.csv', '/home/iit/InternColumbia/Location/HeatMaps/4x4grid/data8.csv', '/home/iit/InternColumbia/Location/HeatMaps/4x4grid/data2.csv', '/home/iit/InternColumbia/Location/HeatMaps/4x4grid/data1.csv', '/home/iit/InternColumbia/Location/HeatMaps/4x4grid/data13.csv', '/home/iit/InternColumbia/Location/HeatMaps/4x4grid/data11.csv', '/home/iit/InternColumbia/Location/HeatMaps/4x4grid/data10.csv', '/home/iit/InternColumbia/Location/HeatMaps/4x4grid/data12.csv', '/home/iit/InternColumbia/Location/HeatMaps/4x4grid/data3.csv', '/home/iit/InternColumbia/Location/HeatMaps/4x4grid/data9.csv', '/home/iit/InternColumbia/Location/HeatMaps/4x4grid/data7.csv', '/home/iit/InternColumbia/Location/HeatMaps/4x4grid/data14.csv']\n"
     ]
    }
   ],
   "source": [
    "filenames = glob('/home/iit/InternColumbia/Location/HeatMaps/4x4grid/*.csv')\n",
    "print(filenames)\n",
    "cur_file = \"./4x4grid/data0.csv\"\n",
    "#print(cur_file)\n",
    "df=pd.read_csv(cur_file)\n",
    "df.head()\n",
    "# df.info()\n",
    "#meaner = df[\"B_net\"].mean() \n",
    "#print(meaner)"
   ]
  },
  {
   "cell_type": "code",
   "execution_count": 39,
   "metadata": {},
   "outputs": [],
   "source": [
    "df0=pd.read_csv(\"./4x4grid/data0.csv\")\n",
    "df1=pd.read_csv(\"./4x4grid/data1.csv\")\n",
    "df2=pd.read_csv(\"./4x4grid/data2.csv\")\n",
    "B0 = df0[\"B_net\"].mean()\n",
    "Bx0 = df0[\"B_x\"].mean()\n",
    "By0 = df0[\"B_y\"].mean()\n",
    "Bz0 = df0[\"B_z\"].mean()\n",
    "B1 = df1[\"B_net\"].mean()\n",
    "Bx1 = df1[\"B_x\"].mean()\n",
    "By1 = df1[\"B_y\"].mean()\n",
    "Bz1 = df1[\"B_z\"].mean()\n",
    "B2 = df2[\"B_net\"].mean()\n",
    "Bx2 = df2[\"B_x\"].mean()\n",
    "By2 = df2[\"B_y\"].mean()\n",
    "Bz2 = df2[\"B_z\"].mean()\n",
    "\n",
    "Bvalues = [B0,B1,B2]\n",
    "Bxvalues = [Bx0,Bx1,Bx2]\n",
    "Byvalues = [By0,By1,By2]\n",
    "Bzvalues = [Bz0,Bz1,Bz2]\n",
    "print(Bvalues)\n",
    "print(type(Bvalues))\n",
    "print(type(Bvalues[0]))"
   ]
  },
  {
   "cell_type": "code",
   "execution_count": 66,
   "metadata": {},
   "outputs": [
    {
     "name": "stdout",
     "output_type": "stream",
     "text": [
      "[[-15.4949342  -15.53074654 -15.53074654 -15.53074654]\n",
      " [-15.41428742 -15.53074654 -15.41428742 -15.41428742]\n",
      " [-15.41428742 -15.41428742 -15.53074654 -15.41428742]\n",
      " [-15.53074654 -15.41428742 -15.53074654 -15.53074654]]\n"
     ]
    }
   ],
   "source": [
    "B = np.zeros((4,4))\n",
    "Bx = np.zeros((4,4))\n",
    "By = np.zeros((4,4))\n",
    "Bz = np.zeros((4,4))"
   ]
  },
  {
   "cell_type": "code",
   "execution_count": 58,
   "metadata": {},
   "outputs": [
    {
     "data": {
      "image/png": "[encoded data removed]",
      "text/plain": [
       "<Figure size 792x504 with 1 Axes>"
      ]
     },
     "metadata": {
      "needs_background": "light"
     },
     "output_type": "display_data"
    }
   ],
   "source": [
    "plt.imshow(B, cmap='viridis', interpolation='nearest',vmin=35,vmax=36)\n",
    "plt.show()"
   ]
  },
  {
   "cell_type": "code",
   "execution_count": 59,
   "metadata": {},
   "outputs": [
    {
     "data": {
      "image/png": "[encoded data removed]",
      "text/plain": [
       "<Figure size 792x504 with 1 Axes>"
      ]
     },
     "metadata": {
      "needs_background": "light"
     },
     "output_type": "display_data"
    }
   ],
   "source": [
    "plt.imshow(Bx, cmap='hot', interpolation='nearest',vmin=4,vmax=5)\n",
    "plt.show()"
   ]
  },
  {
   "cell_type": "code",
   "execution_count": 65,
   "metadata": {},
   "outputs": [
    {
     "data": {
      "image/png": "[encoded data removed]",
      "text/plain": [
       "<Figure size 792x504 with 1 Axes>"
      ]
     },
     "metadata": {
      "needs_background": "light"
     },
     "output_type": "display_data"
    }
   ],
   "source": [
    "plt.imshow(By, cmap='hot', interpolation='nearest',vmin=30,vmax=31)\n",
    "plt.show()"
   ]
  },
  {
   "cell_type": "code",
   "execution_count": 68,
   "metadata": {},
   "outputs": [
    {
     "data": {
      "image/png": "[encoded data removed]",
      "text/plain": [
       "<Figure size 792x504 with 1 Axes>"
      ]
     },
     "metadata": {
      "needs_background": "light"
     },
     "output_type": "display_data"
    }
   ],
   "source": [
    "plt.imshow(Bz, cmap='hot', interpolation='nearest',vmin=-16,vmax=-15)\n",
    "plt.show()"
   ]
  }
 ],
 "metadata": {
  "kernelspec": {
   "display_name": "Python 3",
   "language": "python",
   "name": "python3"
  },
  "language_info": {
   "codemirror_mode": {
    "name": "ipython",
    "version": 3
   },
   "file_extension": ".py",
   "mimetype": "text/x-python",
   "name": "python",
   "nbconvert_exporter": "python",
   "pygments_lexer": "ipython3",
   "version": "3.7.7"
  }
 },
 "nbformat": 4,
 "nbformat_minor": 4
}
