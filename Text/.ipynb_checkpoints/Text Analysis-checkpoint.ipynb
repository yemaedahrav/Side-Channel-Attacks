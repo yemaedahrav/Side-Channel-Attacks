{
 "cells": [
  {
   "cell_type": "code",
   "execution_count": 1,
   "metadata": {},
   "outputs": [],
   "source": [
    "import pandas as pd\n",
    "import numpy as np\n",
    "\n",
    "import datetime\n",
    "\n",
    "import sklearn\n",
    "from sklearn.model_selection import train_test_split\n",
    "\n",
    "from sklearn.linear_model import LogisticRegression\n",
    "from sklearn.multiclass import OneVsRestClassifier\n",
    "\n",
    "from sklearn.ensemble import RandomForestClassifier\n",
    "from sklearn.svm import SVC\n",
    "\n",
    "from sklearn.neighbors import KNeighborsClassifier \n",
    "import matplotlib.pyplot as plt  \n",
    "import seaborn as sns \n",
    "\n",
    "%matplotlib inline\n",
    "\n",
    "from sklearn import metrics\n",
    "from sklearn.metrics import precision_score, recall_score, roc_auc_score, roc_curve\n",
    "from sklearn.metrics import confusion_matrix"
   ]
  },
  {
   "cell_type": "code",
   "execution_count": null,
   "metadata": {},
   "outputs": [],
   "source": [
    "standstill = pd.read_csv(\"standstill.csv\")\n",
    "\n",
    "len1 = len(df1.index)\n",
    "label1 = [1]*len1\n",
    "df1[\"Label\"]=label1\n",
    "combinedlist.append(df1)\n",
    "\n",
    "df2 = pd.read_csv(\"data_room2.csv\")\n",
    "len2 = len(df2.index)\n",
    "label2 = [2]*len2\n",
    "df2[\"Label\"]=label2\n",
    "combinedlist.append(df2)\n",
    "\n",
    "df3 = pd.read_csv(\"data_room3.csv\")\n",
    "len3 = len(df3.index)\n",
    "label3 = [3]*len3\n",
    "df3[\"Label\"]=label3\n",
    "combinedlist.append(df3)\n",
    "\n",
    "dataset = pd.concat(combinedlist, axis=0, ignore_index=True)\n",
    "X = dataset.iloc[:,1:5].values\n",
    "y = dataset.iloc[:,5].values"
   ]
  }
 ],
 "metadata": {
  "kernelspec": {
   "display_name": "Python 3",
   "language": "python",
   "name": "python3"
  },
  "language_info": {
   "codemirror_mode": {
    "name": "ipython",
    "version": 3
   },
   "file_extension": ".py",
   "mimetype": "text/x-python",
   "name": "python",
   "nbconvert_exporter": "python",
   "pygments_lexer": "ipython3",
   "version": "3.7.7"
  }
 },
 "nbformat": 4,
 "nbformat_minor": 4
}
