{
 "cells": [
  {
   "cell_type": "code",
   "execution_count": 1,
   "metadata": {},
   "outputs": [],
   "source": [
    "import pandas as pd\n",
    "import numpy as np\n",
    "\n",
    "import datetime\n",
    "\n",
    "import sklearn\n",
    "from sklearn.model_selection import train_test_split\n",
    "\n",
    "from sklearn.linear_model import LogisticRegression\n",
    "from sklearn.multiclass import OneVsRestClassifier\n",
    "\n",
    "from sklearn.ensemble import RandomForestClassifier\n",
    "from sklearn.svm import SVC\n",
    "from sklearn.neighbors import KNeighborsClassifier \n",
    "\n",
    "%matplotlib inline\n",
    "import matplotlib.pyplot as plt  \n",
    "import seaborn as sns \n",
    "\n",
    "from sklearn import metrics\n",
    "from sklearn.metrics import precision_score, recall_score, roc_auc_score, roc_curve\n",
    "from sklearn.metrics import confusion_matrix"
   ]
  },
  {
   "cell_type": "code",
   "execution_count": 2,
   "metadata": {},
   "outputs": [
    {
     "data": {
      "text/html": [
       "<div>\n",
       "<style scoped>\n",
       "    .dataframe tbody tr th:only-of-type {\n",
       "        vertical-align: middle;\n",
       "    }\n",
       "\n",
       "    .dataframe tbody tr th {\n",
       "        vertical-align: top;\n",
       "    }\n",
       "\n",
       "    .dataframe thead th {\n",
       "        text-align: right;\n",
       "    }\n",
       "</style>\n",
       "<table border=\"1\" class=\"dataframe\">\n",
       "  <thead>\n",
       "    <tr style=\"text-align: right;\">\n",
       "      <th></th>\n",
       "      <th>TimeStamp</th>\n",
       "      <th>B_x</th>\n",
       "      <th>B_y</th>\n",
       "      <th>B_z</th>\n",
       "      <th>B_net</th>\n",
       "    </tr>\n",
       "  </thead>\n",
       "  <tbody>\n",
       "    <tr>\n",
       "      <th>0</th>\n",
       "      <td>2020/07/24 10:25:00.874</td>\n",
       "      <td>-30</td>\n",
       "      <td>11</td>\n",
       "      <td>-16</td>\n",
       "      <td>36</td>\n",
       "    </tr>\n",
       "    <tr>\n",
       "      <th>1</th>\n",
       "      <td>2020/07/24 10:25:00.897</td>\n",
       "      <td>-30</td>\n",
       "      <td>11</td>\n",
       "      <td>-16</td>\n",
       "      <td>36</td>\n",
       "    </tr>\n",
       "    <tr>\n",
       "      <th>2</th>\n",
       "      <td>2020/07/24 10:25:00.918</td>\n",
       "      <td>-30</td>\n",
       "      <td>11</td>\n",
       "      <td>-16</td>\n",
       "      <td>36</td>\n",
       "    </tr>\n",
       "    <tr>\n",
       "      <th>3</th>\n",
       "      <td>2020/07/24 10:25:00.940</td>\n",
       "      <td>-30</td>\n",
       "      <td>11</td>\n",
       "      <td>-16</td>\n",
       "      <td>36</td>\n",
       "    </tr>\n",
       "    <tr>\n",
       "      <th>4</th>\n",
       "      <td>2020/07/24 10:25:00.962</td>\n",
       "      <td>-30</td>\n",
       "      <td>12</td>\n",
       "      <td>-16</td>\n",
       "      <td>36</td>\n",
       "    </tr>\n",
       "  </tbody>\n",
       "</table>\n",
       "</div>"
      ],
      "text/plain": [
       "                 TimeStamp  B_x  B_y  B_z  B_net\n",
       "0  2020/07/24 10:25:00.874  -30   11  -16     36\n",
       "1  2020/07/24 10:25:00.897  -30   11  -16     36\n",
       "2  2020/07/24 10:25:00.918  -30   11  -16     36\n",
       "3  2020/07/24 10:25:00.940  -30   11  -16     36\n",
       "4  2020/07/24 10:25:00.962  -30   12  -16     36"
      ]
     },
     "execution_count": 2,
     "metadata": {},
     "output_type": "execute_result"
    }
   ],
   "source": [
    "standstill = pd.read_csv(\"standstill.csv\")\n",
    "standstill.head()\n"
   ]
  },
  {
   "cell_type": "code",
   "execution_count": 3,
   "metadata": {},
   "outputs": [
    {
     "data": {
      "image/png": "[encoded data removed]",
      "text/plain": [
       "<Figure size 432x288 with 1 Axes>"
      ]
     },
     "metadata": {
      "needs_background": "light"
     },
     "output_type": "display_data"
    }
   ],
   "source": [
    "plt.plot(standstill.TimeStamp,standstill.B_net,label='B',color='blue',linewidth='1')\n",
    "plt.plot(standstill.TimeStamp,standstill.B_x,label='Bx',color='c',linewidth='1')\n",
    "plt.plot(standstill.TimeStamp,standstill.B_y,label='By',color='m',linewidth='1')\n",
    "plt.plot(standstill.TimeStamp,standstill.B_z,label='Bz',color='y',linewidth='1')\n",
    "plt.xlabel('Timestamp') \n",
    "plt.tick_params(\n",
    "    axis='x',          \n",
    "    which='both',      \n",
    "    bottom=False,      \n",
    "    top=False,         \n",
    "    labelbottom=False) \n",
    "plt.ylabel('B') \n",
    "plt.title('Room 3 standstill') \n",
    "plt.savefig('standstill')\n",
    "plt.legend()\n",
    "plt.show() "
   ]
  },
  {
   "cell_type": "code",
   "execution_count": 4,
   "metadata": {},
   "outputs": [
    {
     "data": {
      "text/html": [
       "<div>\n",
       "<style scoped>\n",
       "    .dataframe tbody tr th:only-of-type {\n",
       "        vertical-align: middle;\n",
       "    }\n",
       "\n",
       "    .dataframe tbody tr th {\n",
       "        vertical-align: top;\n",
       "    }\n",
       "\n",
       "    .dataframe thead th {\n",
       "        text-align: right;\n",
       "    }\n",
       "</style>\n",
       "<table border=\"1\" class=\"dataframe\">\n",
       "  <thead>\n",
       "    <tr style=\"text-align: right;\">\n",
       "      <th></th>\n",
       "      <th>TimeStamp</th>\n",
       "      <th>B_x</th>\n",
       "      <th>B_y</th>\n",
       "      <th>B_z</th>\n",
       "      <th>B_net</th>\n",
       "    </tr>\n",
       "  </thead>\n",
       "  <tbody>\n",
       "    <tr>\n",
       "      <th>0</th>\n",
       "      <td>2020/07/24 11:11:58.446</td>\n",
       "      <td>-31</td>\n",
       "      <td>18</td>\n",
       "      <td>-12</td>\n",
       "      <td>38</td>\n",
       "    </tr>\n",
       "    <tr>\n",
       "      <th>1</th>\n",
       "      <td>2020/07/24 11:11:58.469</td>\n",
       "      <td>-31</td>\n",
       "      <td>18</td>\n",
       "      <td>-12</td>\n",
       "      <td>38</td>\n",
       "    </tr>\n",
       "    <tr>\n",
       "      <th>2</th>\n",
       "      <td>2020/07/24 11:11:58.491</td>\n",
       "      <td>-31</td>\n",
       "      <td>18</td>\n",
       "      <td>-12</td>\n",
       "      <td>38</td>\n",
       "    </tr>\n",
       "    <tr>\n",
       "      <th>3</th>\n",
       "      <td>2020/07/24 11:11:58.513</td>\n",
       "      <td>-31</td>\n",
       "      <td>18</td>\n",
       "      <td>-13</td>\n",
       "      <td>38</td>\n",
       "    </tr>\n",
       "    <tr>\n",
       "      <th>4</th>\n",
       "      <td>2020/07/24 11:11:58.535</td>\n",
       "      <td>-31</td>\n",
       "      <td>18</td>\n",
       "      <td>-13</td>\n",
       "      <td>38</td>\n",
       "    </tr>\n",
       "  </tbody>\n",
       "</table>\n",
       "</div>"
      ],
      "text/plain": [
       "                 TimeStamp  B_x  B_y  B_z  B_net\n",
       "0  2020/07/24 11:11:58.446  -31   18  -12     38\n",
       "1  2020/07/24 11:11:58.469  -31   18  -12     38\n",
       "2  2020/07/24 11:11:58.491  -31   18  -12     38\n",
       "3  2020/07/24 11:11:58.513  -31   18  -13     38\n",
       "4  2020/07/24 11:11:58.535  -31   18  -13     38"
      ]
     },
     "execution_count": 4,
     "metadata": {},
     "output_type": "execute_result"
    }
   ],
   "source": [
    "A = pd.read_csv(\"A.csv\")\n",
    "A.head()\n"
   ]
  },
  {
   "cell_type": "code",
   "execution_count": 16,
   "metadata": {},
   "outputs": [
    {
     "data": {
      "image/png": "[encoded data removed]",
      "text/plain": [
       "<Figure size 432x288 with 1 Axes>"
      ]
     },
     "metadata": {
      "needs_background": "light"
     },
     "output_type": "display_data"
    }
   ],
   "source": [
    "plt.plot(A.TimeStamp,A.B_net,label='B',color='blue',linewidth='1')\n",
    "plt.plot(A.TimeStamp,A.B_x,label='Bx',color='c',linewidth='1')\n",
    "plt.plot(A.TimeStamp,A.B_y,label='By',color='m',linewidth='1')\n",
    "plt.plot(A.TimeStamp,A.B_z,label='Bz',color='y',linewidth='1')\n",
    "plt.xlabel('Timestamp') \n",
    "plt.tick_params(\n",
    "    axis='x',          \n",
    "    which='both',      \n",
    "    bottom=False,      \n",
    "    top=False,         \n",
    "    labelbottom=False) \n",
    "plt.ylabel('B') \n",
    "plt.title('Room 3 A') \n",
    "plt.savefig('A')\n",
    "plt.show() "
   ]
  },
  {
   "cell_type": "code",
   "execution_count": 12,
   "metadata": {},
   "outputs": [
    {
     "data": {
      "text/html": [
       "<div>\n",
       "<style scoped>\n",
       "    .dataframe tbody tr th:only-of-type {\n",
       "        vertical-align: middle;\n",
       "    }\n",
       "\n",
       "    .dataframe tbody tr th {\n",
       "        vertical-align: top;\n",
       "    }\n",
       "\n",
       "    .dataframe thead th {\n",
       "        text-align: right;\n",
       "    }\n",
       "</style>\n",
       "<table border=\"1\" class=\"dataframe\">\n",
       "  <thead>\n",
       "    <tr style=\"text-align: right;\">\n",
       "      <th></th>\n",
       "      <th>TimeStamp</th>\n",
       "      <th>B_x</th>\n",
       "      <th>B_y</th>\n",
       "      <th>B_z</th>\n",
       "      <th>B_net</th>\n",
       "    </tr>\n",
       "  </thead>\n",
       "  <tbody>\n",
       "    <tr>\n",
       "      <th>count</th>\n",
       "      <td>5775</td>\n",
       "      <td>5775</td>\n",
       "      <td>5775</td>\n",
       "      <td>5775</td>\n",
       "      <td>5775</td>\n",
       "    </tr>\n",
       "    <tr>\n",
       "      <th>unique</th>\n",
       "      <td>5774</td>\n",
       "      <td>10</td>\n",
       "      <td>11</td>\n",
       "      <td>15</td>\n",
       "      <td>7</td>\n",
       "    </tr>\n",
       "    <tr>\n",
       "      <th>top</th>\n",
       "      <td>TimeStamp</td>\n",
       "      <td>-30</td>\n",
       "      <td>18</td>\n",
       "      <td>-14</td>\n",
       "      <td>38</td>\n",
       "    </tr>\n",
       "    <tr>\n",
       "      <th>freq</th>\n",
       "      <td>2</td>\n",
       "      <td>2885</td>\n",
       "      <td>2886</td>\n",
       "      <td>2875</td>\n",
       "      <td>2906</td>\n",
       "    </tr>\n",
       "  </tbody>\n",
       "</table>\n",
       "</div>"
      ],
      "text/plain": [
       "        TimeStamp   B_x   B_y   B_z B_net\n",
       "count        5775  5775  5775  5775  5775\n",
       "unique       5774    10    11    15     7\n",
       "top     TimeStamp   -30    18   -14    38\n",
       "freq            2  2885  2886  2875  2906"
      ]
     },
     "execution_count": 12,
     "metadata": {},
     "output_type": "execute_result"
    }
   ],
   "source": [
    "AZ = pd.read_csv(\"AZ.csv\")\n",
    "AZ.describe()\n",
    "\n"
   ]
  },
  {
   "cell_type": "code",
   "execution_count": 19,
   "metadata": {},
   "outputs": [
    {
     "data": {
      "image/png": "[encoded data removed]",
      "text/plain": [
       "<Figure size 432x288 with 1 Axes>"
      ]
     },
     "metadata": {
      "needs_background": "light"
     },
     "output_type": "display_data"
    }
   ],
   "source": [
    "plt.plot(AZ.TimeStamp,AZ.B_net,label='B',color='blue',linewidth='1')\n",
    "plt.plot(AZ.TimeStamp,AZ.B_x,label='Bx',color='c',linewidth='1')\n",
    "plt.plot(AZ.TimeStamp,AZ.B_y,label='By',color='m',linewidth='1')\n",
    "plt.plot(AZ.TimeStamp,AZ.B_z,label='Bz',color='y',linewidth='1')\n",
    "plt.xlabel('Timestamp') \n",
    "plt.tick_params(\n",
    "    axis='both',          \n",
    "    which='both',      \n",
    "    bottom=False,      \n",
    "    top=False,         \n",
    "    labelbottom=False) \n",
    "plt.yticks(np.arange(-50,50,10))\n",
    "plt.ylabel('B') \n",
    "plt.title('Room 3 AZ') \n",
    "plt.savefig('AZ')\n",
    "plt.legend()\n",
    "plt.show() \n"
   ]
  },
  {
   "cell_type": "code",
   "execution_count": 8,
   "metadata": {},
   "outputs": [
    {
     "data": {
      "text/html": [
       "<div>\n",
       "<style scoped>\n",
       "    .dataframe tbody tr th:only-of-type {\n",
       "        vertical-align: middle;\n",
       "    }\n",
       "\n",
       "    .dataframe tbody tr th {\n",
       "        vertical-align: top;\n",
       "    }\n",
       "\n",
       "    .dataframe thead th {\n",
       "        text-align: right;\n",
       "    }\n",
       "</style>\n",
       "<table border=\"1\" class=\"dataframe\">\n",
       "  <thead>\n",
       "    <tr style=\"text-align: right;\">\n",
       "      <th></th>\n",
       "      <th>TimeStamp</th>\n",
       "      <th>B_x</th>\n",
       "      <th>B_y</th>\n",
       "      <th>B_z</th>\n",
       "      <th>B_net</th>\n",
       "    </tr>\n",
       "  </thead>\n",
       "  <tbody>\n",
       "    <tr>\n",
       "      <th>0</th>\n",
       "      <td>2020/07/24 11:11:58.446</td>\n",
       "      <td>-31</td>\n",
       "      <td>18</td>\n",
       "      <td>-12</td>\n",
       "      <td>38</td>\n",
       "    </tr>\n",
       "    <tr>\n",
       "      <th>1</th>\n",
       "      <td>2020/07/24 11:11:58.469</td>\n",
       "      <td>-31</td>\n",
       "      <td>18</td>\n",
       "      <td>-12</td>\n",
       "      <td>38</td>\n",
       "    </tr>\n",
       "    <tr>\n",
       "      <th>2</th>\n",
       "      <td>2020/07/24 11:11:58.491</td>\n",
       "      <td>-31</td>\n",
       "      <td>18</td>\n",
       "      <td>-12</td>\n",
       "      <td>38</td>\n",
       "    </tr>\n",
       "    <tr>\n",
       "      <th>3</th>\n",
       "      <td>2020/07/24 11:11:58.513</td>\n",
       "      <td>-31</td>\n",
       "      <td>18</td>\n",
       "      <td>-13</td>\n",
       "      <td>38</td>\n",
       "    </tr>\n",
       "    <tr>\n",
       "      <th>4</th>\n",
       "      <td>2020/07/24 11:11:58.535</td>\n",
       "      <td>-31</td>\n",
       "      <td>18</td>\n",
       "      <td>-13</td>\n",
       "      <td>38</td>\n",
       "    </tr>\n",
       "  </tbody>\n",
       "</table>\n",
       "</div>"
      ],
      "text/plain": [
       "                 TimeStamp  B_x B_y  B_z B_net\n",
       "0  2020/07/24 11:11:58.446  -31  18  -12    38\n",
       "1  2020/07/24 11:11:58.469  -31  18  -12    38\n",
       "2  2020/07/24 11:11:58.491  -31  18  -12    38\n",
       "3  2020/07/24 11:11:58.513  -31  18  -13    38\n",
       "4  2020/07/24 11:11:58.535  -31  18  -13    38"
      ]
     },
     "execution_count": 8,
     "metadata": {},
     "output_type": "execute_result"
    }
   ],
   "source": [
    "S = pd.read_csv(\"Sentence.csv\")\n",
    "S.head()\n"
   ]
  },
  {
   "cell_type": "code",
   "execution_count": 20,
   "metadata": {},
   "outputs": [
    {
     "data": {
      "image/png": "[encoded data removed]",
      "text/plain": [
       "<Figure size 432x288 with 1 Axes>"
      ]
     },
     "metadata": {
      "needs_background": "light"
     },
     "output_type": "display_data"
    }
   ],
   "source": [
    "plt.plot(S.TimeStamp,S.B_net,label='B',color='blue',linewidth='1')\n",
    "plt.plot(S.TimeStamp,S.B_x,label='Bx',color='c',linewidth='1')\n",
    "plt.plot(S.TimeStamp,S.B_y,label='By',color='m',linewidth='1')\n",
    "plt.plot(S.TimeStamp,S.B_z,label='Bz',color='y',linewidth='1')\n",
    "plt.xlabel('Timestamp') \n",
    "plt.tick_params(\n",
    "    axis='x',          \n",
    "    which='both',      \n",
    "    bottom=False,      \n",
    "    top=False,         \n",
    "    labelbottom=False) \n",
    "plt.tick_params(\n",
    "    axis='y',          \n",
    "    which='both',      \n",
    "    bottom=False,      \n",
    "    top=False,         \n",
    "    labelbottom=False) \n",
    "plt.yticks(np.arange(-50,50,10))\n",
    "plt.ylabel('B') \n",
    "plt.title('Room 3 S') \n",
    "plt.savefig('S')\n",
    "plt.legend()\n",
    "plt.show() "
   ]
  }
 ],
 "metadata": {
  "kernelspec": {
   "display_name": "Python 3",
   "language": "python",
   "name": "python3"
  },
  "language_info": {
   "codemirror_mode": {
    "name": "ipython",
    "version": 3
   },
   "file_extension": ".py",
   "mimetype": "text/x-python",
   "name": "python",
   "nbconvert_exporter": "python",
   "pygments_lexer": "ipython3",
   "version": "3.7.7"
  }
 },
 "nbformat": 4,
 "nbformat_minor": 4
}
